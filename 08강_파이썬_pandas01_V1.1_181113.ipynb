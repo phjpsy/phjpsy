{
 "cells": [
  {
   "cell_type": "markdown",
   "metadata": {},
   "source": [
    "# pandas 1강\n",
    "## 1. pandas overview\n",
    "### (1) pandas 란?\n",
    "- python에서 다룰 수 있는 엑셀\n",
    "- sql의 table, excel 스프레드시트처럼 많은 타입의 컬럼들을 가진 테이블 형식의 자료구조를 가지고 있다.\n",
    "- NumPy 기반으로 개발되었기 때문에 NumPy를 사용하는 어플리케이션에서 쉽게 사용 가능                             "
   ]
  },
  {
   "cell_type": "markdown",
   "metadata": {},
   "source": [
    "### (2) pandas 불러오기\n",
    "-  Series나 DataFrame은 로컬 네임스페이스로 import하는 것이 편하다"
   ]
  },
  {
   "cell_type": "code",
   "execution_count": null,
   "metadata": {},
   "outputs": [],
   "source": [
    "from pandas import Series, DataFrame\n",
    "import pandas as pd"
   ]
  },
  {
   "cell_type": "markdown",
   "metadata": {},
   "source": [
    "- csv data 불러오기"
   ]
  },
  {
   "cell_type": "code",
   "execution_count": null,
   "metadata": {},
   "outputs": [],
   "source": [
    "import pandas as pd\n",
    "\n",
    "data = pd.read_csv('data/pd_bikeshare.csv')\n",
    "data.head()"
   ]
  },
  {
   "cell_type": "markdown",
   "metadata": {},
   "source": [
    "### (3) pandas 자료구조\n",
    "- Series : 1차원 배열구조 – 전체 DataFrame중 하나의 열에 해당\n",
    "- DataFrame : 2차원 배열구조 – 전체 data를 가지고 있는 객체"
   ]
  },
  {
   "cell_type": "markdown",
   "metadata": {},
   "source": [
    "## 2. Series\n",
    " - 기본적으로 NumPy의 subclass 이므로 NumPy 사용방법과 비슷\n",
    " - numpy 행렬의 차원에서 보면 하나의 column에 해당하는 값들의 모임\n",
    " - 어떠한 type의 data라도 다룰 수 있다.\n",
    " - index label을 가지고 있다.\n",
    " - 중복이 가능하고, 순서대로 정렬 될 필요는 없다. "
   ]
  },
  {
   "cell_type": "code",
   "execution_count": null,
   "metadata": {},
   "outputs": [],
   "source": [
    "from pandas import Series, DataFrame\n",
    "import pandas as pd\n",
    "ex_obj = Series()"
   ]
  },
  {
   "cell_type": "markdown",
   "metadata": {},
   "source": [
    "### (1) list data를 이용한 Series 생성\n",
    "-  index정보를 주지 않으면 default값(0,1,2,...,n) 으로 index 생성"
   ]
  },
  {
   "cell_type": "code",
   "execution_count": null,
   "metadata": {},
   "outputs": [],
   "source": [
    "ex_obj = Series(data = [ 3, 2, 4, 1, 5])\n",
    "ex_obj"
   ]
  },
  {
   "cell_type": "markdown",
   "metadata": {},
   "source": [
    "- 각가의 데이터를 지칭하는 index를 지정하여 Series 생성"
   ]
  },
  {
   "cell_type": "code",
   "execution_count": null,
   "metadata": {},
   "outputs": [],
   "source": [
    "value_data = [ 2.2, 3, 4.2, 5, 1]\n",
    "index_data = [ \"c\", \"a\", \"b\", \"d\", \"e\"]\n",
    "exp_obj = Series(value_data, index = index_data )\n",
    "exp_obj"
   ]
  },
  {
   "cell_type": "markdown",
   "metadata": {},
   "source": [
    "### (2) dict data를 이용한 Series 생성\n",
    "- 파이썬 dict 객체로부터 Series 객체 생성"
   ]
  },
  {
   "cell_type": "code",
   "execution_count": null,
   "metadata": {},
   "outputs": [],
   "source": [
    "import numpy as np"
   ]
  },
  {
   "cell_type": "code",
   "execution_count": null,
   "metadata": {},
   "outputs": [],
   "source": [
    "dict_data = { \"apple\" : 1, \"banana\" : 3, \"carrot\" : 4, \"Durian\" : 5}\n",
    "exp_obj = Series( dict_data , dtype = np.float32 )\n",
    "exp_obj"
   ]
  },
  {
   "cell_type": "markdown",
   "metadata": {},
   "source": [
    "### (3) list, dict data를 이용한 Series 생성"
   ]
  },
  {
   "cell_type": "code",
   "execution_count": null,
   "metadata": {},
   "outputs": [],
   "source": [
    "dict_data = {\"apple\" : 1, \"banana\" : 3, \"carrot\" : 4, \"durian\" : 5}\n",
    "list_data = [\"apple\", \"BANANA\", \"carrot\", \"DuRian\",\"Egg\"]\n",
    "exp_obj = Series( dict_data , index = list_data )\n",
    "exp_obj"
   ]
  },
  {
   "cell_type": "markdown",
   "metadata": {},
   "source": [
    "### (4) value 선택, 할당"
   ]
  },
  {
   "cell_type": "code",
   "execution_count": null,
   "metadata": {},
   "outputs": [],
   "source": [
    "exp_obj[ \"apple\" ]  # data의 index에 접근"
   ]
  },
  {
   "cell_type": "code",
   "execution_count": null,
   "metadata": {},
   "outputs": [],
   "source": [
    "exp_obj[ \"apple\" ] = 1.4  # data index를 통해 값 할당\n",
    "exp_obj"
   ]
  },
  {
   "cell_type": "markdown",
   "metadata": {},
   "source": [
    "### (5) Attributes"
   ]
  },
  {
   "cell_type": "code",
   "execution_count": null,
   "metadata": {},
   "outputs": [],
   "source": [
    "exp_obj.values  # 값에 해당하는 리스트 반환. numpy 형태"
   ]
  },
  {
   "cell_type": "code",
   "execution_count": null,
   "metadata": {},
   "outputs": [],
   "source": [
    "exp_obj.index  # index 리스트 형태로 반환"
   ]
  },
  {
   "cell_type": "code",
   "execution_count": null,
   "metadata": {},
   "outputs": [],
   "source": [
    "exp_obj.name = \"example\"   # Series 객체의 이름 설정\n",
    "exp_obj.index.name = \"index_a\" # Series 객체의 색인 이름 설정\n",
    "exp_obj"
   ]
  },
  {
   "cell_type": "markdown",
   "metadata": {},
   "source": [
    "### (6) Series - 기능들\n",
    "- numpy 베이스이므로 numpy의 기능들 다 사용 가능"
   ]
  },
  {
   "cell_type": "code",
   "execution_count": null,
   "metadata": {},
   "outputs": [],
   "source": [
    "exp_obj + 4  # 사칙연산"
   ]
  },
  {
   "cell_type": "code",
   "execution_count": null,
   "metadata": {},
   "outputs": [],
   "source": [
    "exp_obj[exp_obj > 2] # Boolean indexing"
   ]
  },
  {
   "cell_type": "code",
   "execution_count": null,
   "metadata": {},
   "outputs": [],
   "source": [
    "exp_obj > 2.0"
   ]
  },
  {
   "cell_type": "code",
   "execution_count": null,
   "metadata": {},
   "outputs": [],
   "source": [
    "exp_obj.sum() # 집합함수"
   ]
  },
  {
   "cell_type": "code",
   "execution_count": null,
   "metadata": {},
   "outputs": [],
   "source": [
    "np.log(exp_obj) # log함수"
   ]
  },
  {
   "cell_type": "code",
   "execution_count": null,
   "metadata": {},
   "outputs": [],
   "source": [
    "exp_obj.to_dict()  # Series  dict로 변환"
   ]
  },
  {
   "cell_type": "markdown",
   "metadata": {},
   "source": [
    "## 3. DataFrame\n",
    "- 스프레드시트 형식의 자료구조 여러 개의 컬럼이 있다.\n",
    "- 각각의 컬럼은 다른 type으로 구성될 수 있다.\n",
    "- row와 column에 대한 색인 존재\n",
    "- 컬럼 삽입이나 삭제를 통해 사이즈를 유연하게 조절 할 수 있음\n",
    "- R의 data.frame과 같은 구조"
   ]
  },
  {
   "cell_type": "markdown",
   "metadata": {},
   "source": [
    "### (1) dict data를 이용한 생성"
   ]
  },
  {
   "cell_type": "code",
   "execution_count": null,
   "metadata": {},
   "outputs": [],
   "source": [
    "r_data = {\n",
    "    \"city\" : [\n",
    "        \"Seoul\", \"Seoul\", \"Jeonju\", \"Busan\", \"Incheon\", \"Goyang\"\n",
    "    ],\n",
    "    \"name\" : [\n",
    "        \"이정수\", \"강한술\", \"오영희\", \"채호야\", \"문동석\", \"고나리\"\n",
    "    ],\n",
    "    \"job\" : [\n",
    "        '학생', '정치인', '경찰', '소방관', '영업', 'it'\n",
    "    ],\n",
    "    \"age\" : [\n",
    "        22, 53, 26, 33, 43, 34\n",
    "    ]\n",
    "}\n"
   ]
  },
  {
   "cell_type": "code",
   "execution_count": null,
   "metadata": {},
   "outputs": [],
   "source": [
    "df = DataFrame( r_data )\n",
    "df"
   ]
  },
  {
   "cell_type": "code",
   "execution_count": null,
   "metadata": {},
   "outputs": [],
   "source": [
    "df = DataFrame( r_data, columns = [  'name', 'job', 'city', 'age' ] )\n",
    "df"
   ]
  },
  {
   "cell_type": "markdown",
   "metadata": {},
   "source": [
    "- 없던 색인을 넘기게 되면 Series처럼 NA 값이 저장"
   ]
  },
  {
   "cell_type": "code",
   "execution_count": null,
   "metadata": {},
   "outputs": [],
   "source": [
    "df2 = DataFrame(r_data, columns = [ 'name', 'job', 'city', 'age', 'comp' ])\n",
    "df2"
   ]
  },
  {
   "cell_type": "markdown",
   "metadata": {},
   "source": [
    "### (2) DataFrame 칼럼 접근\n",
    "- Series처럼 사전 형식 표기법 또는 속성 형식으로 접근 할 수 있다."
   ]
  },
  {
   "cell_type": "code",
   "execution_count": null,
   "metadata": {},
   "outputs": [],
   "source": [
    "df2[\"name\"]  # dict type처럼 변수명과 컬럼명으로 추출"
   ]
  },
  {
   "cell_type": "code",
   "execution_count": null,
   "metadata": {},
   "outputs": [],
   "source": [
    "df2.age  # 속성이름으로 추출"
   ]
  },
  {
   "cell_type": "markdown",
   "metadata": {},
   "source": [
    "- loc, iloc"
   ]
  },
  {
   "cell_type": "code",
   "execution_count": null,
   "metadata": {},
   "outputs": [],
   "source": [
    "df2.loc[3] # index label 기준"
   ]
  },
  {
   "cell_type": "code",
   "execution_count": null,
   "metadata": {},
   "outputs": [],
   "source": [
    "df2[ \"name\" ].iloc[3]  # index position 기준"
   ]
  },
  {
   "cell_type": "code",
   "execution_count": null,
   "metadata": {},
   "outputs": [],
   "source": [
    "df3 = DataFrame( r_data, index = [ 14, 1, 3, 2, 7 ,8 ] )\n",
    "df3"
   ]
  },
  {
   "cell_type": "code",
   "execution_count": null,
   "metadata": {},
   "outputs": [],
   "source": [
    "df3.loc[:2] # index label 기준"
   ]
  },
  {
   "cell_type": "code",
   "execution_count": null,
   "metadata": {},
   "outputs": [],
   "source": [
    "df3.iloc[:2] # index position 기준"
   ]
  },
  {
   "cell_type": "markdown",
   "metadata": {},
   "source": [
    "### (3) DataFrame 칼럼에 새로운 데이터 할당\n",
    "- 스칼라 값, 배열의 값 대입"
   ]
  },
  {
   "cell_type": "code",
   "execution_count": null,
   "metadata": {},
   "outputs": [],
   "source": [
    "df2.comp = 30\n",
    "df2"
   ]
  },
  {
   "cell_type": "code",
   "execution_count": null,
   "metadata": {},
   "outputs": [],
   "source": [
    "df2.comp = np.arange(1,7)\n",
    "df2"
   ]
  },
  {
   "cell_type": "markdown",
   "metadata": {},
   "source": [
    "- boolean index 형태로 대입"
   ]
  },
  {
   "cell_type": "code",
   "execution_count": null,
   "metadata": {},
   "outputs": [],
   "source": [
    "df2.comp = df.age > 30\n",
    "df2"
   ]
  },
  {
   "cell_type": "markdown",
   "metadata": {},
   "source": [
    "### (4) DataFrame - Attributes\n",
    "- Series와 마찬가지로 NumPy 속성 사용 가능"
   ]
  },
  {
   "cell_type": "code",
   "execution_count": null,
   "metadata": {},
   "outputs": [],
   "source": [
    "df2.T  # transpose, numpy 기능 똑같이 쓸 수 있음"
   ]
  },
  {
   "cell_type": "code",
   "execution_count": null,
   "metadata": {},
   "outputs": [],
   "source": [
    "df2.values  # 값 출력"
   ]
  },
  {
   "cell_type": "code",
   "execution_count": null,
   "metadata": {},
   "outputs": [],
   "source": [
    "df2.columns  # column index 출력"
   ]
  },
  {
   "cell_type": "code",
   "execution_count": null,
   "metadata": {},
   "outputs": [],
   "source": [
    "df2.index  # row index 출력"
   ]
  },
  {
   "cell_type": "markdown",
   "metadata": {},
   "source": [
    "### (5) DataFrame - column 삭제"
   ]
  },
  {
   "cell_type": "code",
   "execution_count": null,
   "metadata": {},
   "outputs": [],
   "source": [
    "del df2[\"comp\"]\n",
    "df2"
   ]
  },
  {
   "cell_type": "code",
   "execution_count": null,
   "metadata": {},
   "outputs": [],
   "source": [
    "del df2[\"job\"]\n",
    "df2"
   ]
  },
  {
   "cell_type": "markdown",
   "metadata": {},
   "source": [
    "### (6) 중첩된 dict를 이용하여 DataFrame 생성"
   ]
  },
  {
   "cell_type": "code",
   "execution_count": null,
   "metadata": {},
   "outputs": [],
   "source": [
    "ex_dict = {'seoul' : {1 : 33, 2 : 22 }, 'busan' : {3 : 35, 4 : 37 } }\n",
    "ex_dict"
   ]
  },
  {
   "cell_type": "code",
   "execution_count": null,
   "metadata": {},
   "outputs": [],
   "source": [
    "df4 = DataFrame(ex_dict)\n",
    "df4 "
   ]
  },
  {
   "cell_type": "code",
   "execution_count": null,
   "metadata": {},
   "outputs": [],
   "source": []
  }
 ],
 "metadata": {
  "kernelspec": {
   "display_name": "tf36",
   "language": "python",
   "name": "tensorflow"
  },
  "language_info": {
   "codemirror_mode": {
    "name": "ipython",
    "version": 3
   },
   "file_extension": ".py",
   "mimetype": "text/x-python",
   "name": "python",
   "nbconvert_exporter": "python",
   "pygments_lexer": "ipython3",
   "version": "3.6.5"
  }
 },
 "nbformat": 4,
 "nbformat_minor": 2
}
